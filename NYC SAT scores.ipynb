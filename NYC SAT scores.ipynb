{
 "cells": [
  {
   "cell_type": "code",
   "execution_count": 4,
   "metadata": {},
   "outputs": [
    {
     "name": "stdout",
     "output_type": "stream",
     "text": [
      "      DBN                                    SCHOOL NAME  \\\n",
      "0  01M292  HENRY STREET SCHOOL FOR INTERNATIONAL STUDIES   \n",
      "1  01M448            UNIVERSITY NEIGHBORHOOD HIGH SCHOOL   \n",
      "2  01M450                     EAST SIDE COMMUNITY SCHOOL   \n",
      "3  01M458                      FORSYTH SATELLITE ACADEMY   \n",
      "4  01M509                        MARTA VALLE HIGH SCHOOL   \n",
      "\n",
      "  Num of SAT Test Takers SAT Critical Reading Avg. Score SAT Math Avg. Score  \\\n",
      "0                     29                             355                 404   \n",
      "1                     91                             383                 423   \n",
      "2                     70                             377                 402   \n",
      "3                      7                             414                 401   \n",
      "4                     44                             390                 433   \n",
      "\n",
      "  SAT Writing Avg. Score  \n",
      "0                    363  \n",
      "1                    366  \n",
      "2                    370  \n",
      "3                    359  \n",
      "4                    384  \n"
     ]
    }
   ],
   "source": [
    "import pandas as pd\n",
    "data_files = [\n",
    "    \"ap_2010.csv\",\n",
    "    \"class_size.csv\",\n",
    "    \"demographics.csv\",\n",
    "    \"graduation.csv\",\n",
    "    \"hs_directory.csv\",\n",
    "    \"sat_results.csv\"\n",
    "]\n",
    "data = {}\n",
    "for r in data_files:\n",
    "    r_read = pd.read_csv(\"DATASETS/{0}\".format(r)) # read csv file from folder\n",
    "    r_name = r.replace(\".csv\",\"\")\n",
    "    data[r_name] = r_read\n",
    "print(data[\"sat_results\"].head(5))    \n",
    "\n",
    "    \n"
   ]
  },
  {
   "cell_type": "code",
   "execution_count": 5,
   "metadata": {},
   "outputs": [
    {
     "name": "stdout",
     "output_type": "stream",
     "text": [
      "      DBN                             SchoolName AP Test Takers   \\\n",
      "0  01M448           UNIVERSITY NEIGHBORHOOD H.S.              39   \n",
      "1  01M450                 EAST SIDE COMMUNITY HS              19   \n",
      "2  01M515                    LOWER EASTSIDE PREP              24   \n",
      "3  01M539         NEW EXPLORATIONS SCI,TECH,MATH             255   \n",
      "4  02M296  High School of Hospitality Management               s   \n",
      "\n",
      "  Total Exams Taken Number of Exams with scores 3 4 or 5  \n",
      "0                49                                   10  \n",
      "1                21                                    s  \n",
      "2                26                                   24  \n",
      "3               377                                  191  \n",
      "4                 s                                    s  \n",
      "   CSD BOROUGH SCHOOL CODE                SCHOOL NAME GRADE  PROGRAM TYPE  \\\n",
      "0    1       M        M015  P.S. 015 Roberto Clemente     0K       GEN ED   \n",
      "1    1       M        M015  P.S. 015 Roberto Clemente     0K          CTT   \n",
      "2    1       M        M015  P.S. 015 Roberto Clemente     01       GEN ED   \n",
      "3    1       M        M015  P.S. 015 Roberto Clemente     01          CTT   \n",
      "4    1       M        M015  P.S. 015 Roberto Clemente     02       GEN ED   \n",
      "\n",
      "  CORE SUBJECT (MS CORE and 9-12 ONLY) CORE COURSE (MS CORE and 9-12 ONLY)  \\\n",
      "0                                    -                                   -   \n",
      "1                                    -                                   -   \n",
      "2                                    -                                   -   \n",
      "3                                    -                                   -   \n",
      "4                                    -                                   -   \n",
      "\n",
      "  SERVICE CATEGORY(K-9* ONLY)  NUMBER OF STUDENTS / SEATS FILLED  \\\n",
      "0                           -                               19.0   \n",
      "1                           -                               21.0   \n",
      "2                           -                               17.0   \n",
      "3                           -                               17.0   \n",
      "4                           -                               15.0   \n",
      "\n",
      "   NUMBER OF SECTIONS  AVERAGE CLASS SIZE  SIZE OF SMALLEST CLASS  \\\n",
      "0                 1.0                19.0                    19.0   \n",
      "1                 1.0                21.0                    21.0   \n",
      "2                 1.0                17.0                    17.0   \n",
      "3                 1.0                17.0                    17.0   \n",
      "4                 1.0                15.0                    15.0   \n",
      "\n",
      "   SIZE OF LARGEST CLASS DATA SOURCE  SCHOOLWIDE PUPIL-TEACHER RATIO  \n",
      "0                   19.0         ATS                             NaN  \n",
      "1                   21.0         ATS                             NaN  \n",
      "2                   17.0         ATS                             NaN  \n",
      "3                   17.0         ATS                             NaN  \n",
      "4                   15.0         ATS                             NaN  \n",
      "      DBN                       Name  schoolyear fl_percent  frl_percent  \\\n",
      "0  01M015  P.S. 015 ROBERTO CLEMENTE    20052006       89.4          NaN   \n",
      "1  01M015  P.S. 015 ROBERTO CLEMENTE    20062007       89.4          NaN   \n",
      "2  01M015  P.S. 015 ROBERTO CLEMENTE    20072008       89.4          NaN   \n",
      "3  01M015  P.S. 015 ROBERTO CLEMENTE    20082009       89.4          NaN   \n",
      "4  01M015  P.S. 015 ROBERTO CLEMENTE    20092010                    96.5   \n",
      "\n",
      "   total_enrollment prek   k grade1 grade2    ...     black_num black_per  \\\n",
      "0               281   15  36     40     33    ...            74      26.3   \n",
      "1               243   15  29     39     38    ...            68      28.0   \n",
      "2               261   18  43     39     36    ...            77      29.5   \n",
      "3               252   17  37     44     32    ...            75      29.8   \n",
      "4               208   16  40     28     32    ...            67      32.2   \n",
      "\n",
      "  hispanic_num hispanic_per white_num white_per male_num male_per female_num  \\\n",
      "0          189         67.3         5       1.8    158.0     56.2      123.0   \n",
      "1          153         63.0         4       1.6    140.0     57.6      103.0   \n",
      "2          157         60.2         7       2.7    143.0     54.8      118.0   \n",
      "3          149         59.1         7       2.8    149.0     59.1      103.0   \n",
      "4          118         56.7         6       2.9    124.0     59.6       84.0   \n",
      "\n",
      "  female_per  \n",
      "0       43.8  \n",
      "1       42.4  \n",
      "2       45.2  \n",
      "3       40.9  \n",
      "4       40.4  \n",
      "\n",
      "[5 rows x 38 columns]\n",
      "    Demographic     DBN                            School Name    Cohort  \\\n",
      "0  Total Cohort  01M292  HENRY STREET SCHOOL FOR INTERNATIONAL      2003   \n",
      "1  Total Cohort  01M292  HENRY STREET SCHOOL FOR INTERNATIONAL      2004   \n",
      "2  Total Cohort  01M292  HENRY STREET SCHOOL FOR INTERNATIONAL      2005   \n",
      "3  Total Cohort  01M292  HENRY STREET SCHOOL FOR INTERNATIONAL      2006   \n",
      "4  Total Cohort  01M292  HENRY STREET SCHOOL FOR INTERNATIONAL  2006 Aug   \n",
      "\n",
      "   Total Cohort Total Grads - n Total Grads - % of cohort Total Regents - n  \\\n",
      "0             5               s                         s                 s   \n",
      "1            55              37                     67.3%                17   \n",
      "2            64              43                     67.2%                27   \n",
      "3            78              43                     55.1%                36   \n",
      "4            78              44                     56.4%                37   \n",
      "\n",
      "  Total Regents - % of cohort Total Regents - % of grads  \\\n",
      "0                           s                          s   \n",
      "1                       30.9%                      45.9%   \n",
      "2                       42.2%                      62.8%   \n",
      "3                       46.2%                      83.7%   \n",
      "4                       47.4%                      84.1%   \n",
      "\n",
      "             ...            Regents w/o Advanced - n  \\\n",
      "0            ...                                   s   \n",
      "1            ...                                  17   \n",
      "2            ...                                  27   \n",
      "3            ...                                  36   \n",
      "4            ...                                  37   \n",
      "\n",
      "  Regents w/o Advanced - % of cohort Regents w/o Advanced - % of grads  \\\n",
      "0                                  s                                 s   \n",
      "1                              30.9%                             45.9%   \n",
      "2                              42.2%                             62.8%   \n",
      "3                              46.2%                             83.7%   \n",
      "4                              47.4%                             84.1%   \n",
      "\n",
      "  Local - n Local - % of cohort   Local - % of grads Still Enrolled - n  \\\n",
      "0         s                   s                    s                  s   \n",
      "1        20               36.4%                54.1%                 15   \n",
      "2        16                 25%  37.200000000000003%                  9   \n",
      "3         7                  9%                16.3%                 16   \n",
      "4         7                  9%                15.9%                 15   \n",
      "\n",
      "  Still Enrolled - % of cohort Dropped Out - n Dropped Out - % of cohort  \n",
      "0                            s               s                         s  \n",
      "1                        27.3%               3                      5.5%  \n",
      "2                        14.1%               9                     14.1%  \n",
      "3                        20.5%              11                     14.1%  \n",
      "4                        19.2%              11                     14.1%  \n",
      "\n",
      "[5 rows x 23 columns]\n",
      "      dbn                                        school_name    borough  \\\n",
      "0  17K548                Brooklyn School for Music & Theatre   Brooklyn   \n",
      "1  09X543                   High School for Violin and Dance      Bronx   \n",
      "2  09X327        Comprehensive Model School Project M.S. 327      Bronx   \n",
      "3  02M280     Manhattan Early College School for Advertising  Manhattan   \n",
      "4  28Q680  Queens Gateway to Health Sciences Secondary Sc...     Queens   \n",
      "\n",
      "  building_code    phone_number    fax_number  grade_span_min  grade_span_max  \\\n",
      "0          K440    718-230-6250  718-230-6262             9.0              12   \n",
      "1          X400    718-842-0687  718-589-9849             9.0              12   \n",
      "2          X240    718-294-8111  718-294-8109             6.0              12   \n",
      "3          M520  718-935-3477             NaN             9.0              10   \n",
      "4          Q695    718-969-3155  718-969-3552             6.0              12   \n",
      "\n",
      "   expgrade_span_min  expgrade_span_max  \\\n",
      "0                NaN                NaN   \n",
      "1                NaN                NaN   \n",
      "2                NaN                NaN   \n",
      "3                9.0               14.0   \n",
      "4                NaN                NaN   \n",
      "\n",
      "                         ...                         priority08 priority09  \\\n",
      "0                        ...                                NaN        NaN   \n",
      "1                        ...                                NaN        NaN   \n",
      "2                        ...                                NaN        NaN   \n",
      "3                        ...                                NaN        NaN   \n",
      "4                        ...                                NaN        NaN   \n",
      "\n",
      "  priority10                                         Location 1  \\\n",
      "0        NaN  883 Classon Avenue\\nBrooklyn, NY 11225\\n(40.67...   \n",
      "1        NaN  1110 Boston Road\\nBronx, NY 10456\\n(40.8276026...   \n",
      "2        NaN  1501 Jerome Avenue\\nBronx, NY 10452\\n(40.84241...   \n",
      "3        NaN  411 Pearl Street\\nNew York, NY 10038\\n(40.7106...   \n",
      "4        NaN  160 20 Goethals Avenue\\nJamaica, NY 11432\\n(40...   \n",
      "\n",
      "  Community Board  Council District Census Tract        BIN           BBL  \\\n",
      "0             9.0              35.0        213.0  3029686.0  3.011870e+09   \n",
      "1             3.0              16.0        135.0  2004526.0  2.026340e+09   \n",
      "2             4.0              14.0        209.0  2008336.0  2.028590e+09   \n",
      "3             1.0               1.0         29.0  1001388.0  1.001130e+09   \n",
      "4             8.0              24.0       1267.0  4539721.0  4.068580e+09   \n",
      "\n",
      "                                                 NTA  \n",
      "0  Crown Heights South                           ...  \n",
      "1  Morrisania-Melrose                            ...  \n",
      "2  West Concourse                                ...  \n",
      "3  Chinatown                                     ...  \n",
      "4  Pomonok-Flushing Heights-Hillcrest            ...  \n",
      "\n",
      "[5 rows x 64 columns]\n",
      "      DBN                                    SCHOOL NAME  \\\n",
      "0  01M292  HENRY STREET SCHOOL FOR INTERNATIONAL STUDIES   \n",
      "1  01M448            UNIVERSITY NEIGHBORHOOD HIGH SCHOOL   \n",
      "2  01M450                     EAST SIDE COMMUNITY SCHOOL   \n",
      "3  01M458                      FORSYTH SATELLITE ACADEMY   \n",
      "4  01M509                        MARTA VALLE HIGH SCHOOL   \n",
      "\n",
      "  Num of SAT Test Takers SAT Critical Reading Avg. Score SAT Math Avg. Score  \\\n",
      "0                     29                             355                 404   \n",
      "1                     91                             383                 423   \n",
      "2                     70                             377                 402   \n",
      "3                      7                             414                 401   \n",
      "4                     44                             390                 433   \n",
      "\n",
      "  SAT Writing Avg. Score  \n",
      "0                    363  \n",
      "1                    366  \n",
      "2                    370  \n",
      "3                    359  \n",
      "4                    384  \n"
     ]
    }
   ],
   "source": [
    "for d in data:\n",
    "    print(data[d].head(5))"
   ]
  },
  {
   "cell_type": "code",
   "execution_count": 7,
   "metadata": {},
   "outputs": [
    {
     "name": "stdout",
     "output_type": "stream",
     "text": [
      "     N_p    N_s   N_t  aca_p_11  aca_s_11  aca_t_11  aca_tot_11    bn  \\\n",
      "0   90.0    NaN  22.0       7.8       NaN       7.9         7.9  M015   \n",
      "1  161.0    NaN  34.0       7.8       NaN       9.1         8.4  M019   \n",
      "2  367.0    NaN  42.0       8.6       NaN       7.5         8.0  M020   \n",
      "3  151.0  145.0  29.0       8.5       7.4       7.8         7.9  M034   \n",
      "4   90.0    NaN  23.0       7.9       NaN       8.1         8.0  M063   \n",
      "\n",
      "   com_p_11  com_s_11   ...    t_q8c_1  t_q8c_2  t_q8c_3 t_q8c_4  t_q9  \\\n",
      "0       7.6       NaN   ...       29.0     67.0      5.0     0.0   NaN   \n",
      "1       7.6       NaN   ...       74.0     21.0      6.0     0.0   NaN   \n",
      "2       8.3       NaN   ...       33.0     35.0     20.0    13.0   NaN   \n",
      "3       8.2       5.9   ...       21.0     45.0     28.0     7.0   NaN   \n",
      "4       7.9       NaN   ...       59.0     36.0      5.0     0.0   NaN   \n",
      "\n",
      "   t_q9_1  t_q9_2  t_q9_3  t_q9_4  t_q9_5  \n",
      "0     5.0    14.0    52.0    24.0     5.0  \n",
      "1     3.0     6.0     3.0    78.0     9.0  \n",
      "2     3.0     5.0    16.0    70.0     5.0  \n",
      "3     0.0    18.0    32.0    39.0    11.0  \n",
      "4    10.0     5.0    10.0    60.0    15.0  \n",
      "\n",
      "[5 rows x 2773 columns]\n"
     ]
    }
   ],
   "source": [
    "all_survey = pd.read_csv(\"DATASETS/{0}\".format(\"masterfile11_gened_final.txt\"),delimiter=\"\\t\",encoding=\"windows-1252\")\n",
    "d75_survey = pd.read_csv(\"DATASETS/{0}\".format(\"masterfile11_d75_final.txt\"),delimiter=\"\\t\",encoding=\"windows-1252\")\n",
    "survey = pd.concat([all_survey,d75_survey],axis=0) #merge both file\n",
    "print(survey.head(5))"
   ]
  },
  {
   "cell_type": "code",
   "execution_count": 8,
   "metadata": {
    "collapsed": true
   },
   "outputs": [],
   "source": [
    "survey[\"DBN\"] = survey[\"dbn\"] # copy old column with new column"
   ]
  },
  {
   "cell_type": "code",
   "execution_count": 45,
   "metadata": {},
   "outputs": [
    {
     "name": "stdout",
     "output_type": "stream",
     "text": [
      "      DBN  rr_s  rr_t  rr_p  N_s   N_t    N_p  saf_p_11  com_p_11  eng_p_11  \\\n",
      "0  01M015   NaN    88    60  NaN  22.0   90.0       8.5       7.6       7.5   \n",
      "1  01M019   NaN   100    60  NaN  34.0  161.0       8.4       7.6       7.6   \n",
      "\n",
      "      ...      eng_t_11  aca_t_11  saf_s_11  com_s_11  eng_s_11  aca_s_11  \\\n",
      "0     ...           7.6       7.9       NaN       NaN       NaN       NaN   \n",
      "1     ...           8.9       9.1       NaN       NaN       NaN       NaN   \n",
      "\n",
      "   saf_tot_11  com_tot_11  eng_tot_11  aca_tot_11  \n",
      "0         8.0         7.7         7.5         7.9  \n",
      "1         8.5         8.1         8.2         8.4  \n",
      "\n",
      "[2 rows x 23 columns]\n"
     ]
    }
   ],
   "source": [
    "col = [\"DBN\", \"rr_s\", \"rr_t\", \"rr_p\", \"N_s\", \"N_t\", \"N_p\", \"saf_p_11\", \"com_p_11\", \"eng_p_11\", \"aca_p_11\", \"saf_t_11\", \"com_t_11\", \"eng_t_11\", \"aca_t_11\", \"saf_s_11\", \"com_s_11\", \"eng_s_11\", \"aca_s_11\", \"saf_tot_11\", \"com_tot_11\", \"eng_tot_11\", \"aca_tot_11\"]\n",
    "survey = survey.loc[:,col]\n",
    "data[\"survey\"] = survey\n",
    "print(survey.head(2))"
   ]
  },
  {
   "cell_type": "code",
   "execution_count": 10,
   "metadata": {},
   "outputs": [
    {
     "name": "stdout",
     "output_type": "stream",
     "text": [
      "   CSD BOROUGH SCHOOL CODE                SCHOOL NAME GRADE  PROGRAM TYPE  \\\n",
      "0    1       M        M015  P.S. 015 Roberto Clemente     0K       GEN ED   \n",
      "1    1       M        M015  P.S. 015 Roberto Clemente     0K          CTT   \n",
      "2    1       M        M015  P.S. 015 Roberto Clemente     01       GEN ED   \n",
      "3    1       M        M015  P.S. 015 Roberto Clemente     01          CTT   \n",
      "4    1       M        M015  P.S. 015 Roberto Clemente     02       GEN ED   \n",
      "\n",
      "  CORE SUBJECT (MS CORE and 9-12 ONLY) CORE COURSE (MS CORE and 9-12 ONLY)  \\\n",
      "0                                    -                                   -   \n",
      "1                                    -                                   -   \n",
      "2                                    -                                   -   \n",
      "3                                    -                                   -   \n",
      "4                                    -                                   -   \n",
      "\n",
      "  SERVICE CATEGORY(K-9* ONLY)  NUMBER OF STUDENTS / SEATS FILLED  \\\n",
      "0                           -                               19.0   \n",
      "1                           -                               21.0   \n",
      "2                           -                               17.0   \n",
      "3                           -                               17.0   \n",
      "4                           -                               15.0   \n",
      "\n",
      "   NUMBER OF SECTIONS  AVERAGE CLASS SIZE  SIZE OF SMALLEST CLASS  \\\n",
      "0                 1.0                19.0                    19.0   \n",
      "1                 1.0                21.0                    21.0   \n",
      "2                 1.0                17.0                    17.0   \n",
      "3                 1.0                17.0                    17.0   \n",
      "4                 1.0                15.0                    15.0   \n",
      "\n",
      "   SIZE OF LARGEST CLASS DATA SOURCE  SCHOOLWIDE PUPIL-TEACHER RATIO  \\\n",
      "0                   19.0         ATS                             NaN   \n",
      "1                   21.0         ATS                             NaN   \n",
      "2                   17.0         ATS                             NaN   \n",
      "3                   17.0         ATS                             NaN   \n",
      "4                   15.0         ATS                             NaN   \n",
      "\n",
      "  padded_csd     DBN  \n",
      "0         01  01M015  \n",
      "1         01  01M015  \n",
      "2         01  01M015  \n",
      "3         01  01M015  \n",
      "4         01  01M015  \n"
     ]
    }
   ],
   "source": [
    "data[\"hs_directory\"][\"DBN\"] = data[\"hs_directory\"][\"dbn\"]\n",
    "\n",
    "def col(nom):\n",
    "    nom_str=str(nom)\n",
    "    if len(nom_str) > 1:\n",
    "        return nom_str\n",
    "    else:\n",
    "        return nom_str.zfill(2)  # add 0 to number like 1 is 01\n",
    "data[\"class_size\"][\"padded_csd\"] = data[\"class_size\"][\"CSD\"].apply(col) #apply number as string to new column\n",
    "data[\"class_size\"][\"DBN\"] = data[\"class_size\"][\"padded_csd\"] + data[\"class_size\"][\"SCHOOL CODE\"]  # sum two string to anothor column\n",
    "print(data[\"class_size\"].head(5))"
   ]
  },
  {
   "cell_type": "code",
   "execution_count": 12,
   "metadata": {},
   "outputs": [
    {
     "name": "stdout",
     "output_type": "stream",
     "text": [
      "0    1122.0\n",
      "1    1172.0\n",
      "2    1149.0\n",
      "3    1174.0\n",
      "4    1207.0\n",
      "Name: sat_score, dtype: float64\n"
     ]
    }
   ],
   "source": [
    "data[\"sat_results\"][\"SAT Math Avg. Score\"] = pd.to_numeric(data[\"sat_results\"][\"SAT Math Avg. Score\"],errors=\"coerce\") # convert from object(string) to numeric. errors=\"coerce\" to push invalid rows \n",
    "data[\"sat_results\"][\"SAT Critical Reading Avg. Score\"] = pd.to_numeric(data[\"sat_results\"][\"SAT Critical Reading Avg. Score\"],errors=\"coerce\")\n",
    "data[\"sat_results\"][\"SAT Writing Avg. Score\"] = pd.to_numeric(data[\"sat_results\"][\"SAT Writing Avg. Score\"],errors=\"coerce\")\n",
    "data[\"sat_results\"][\"sat_score\"] = data[\"sat_results\"][\"SAT Math Avg. Score\"] + data[\"sat_results\"][\"SAT Critical Reading Avg. Score\"] + data[\"sat_results\"][\"SAT Writing Avg. Score\"] \n",
    "print(data[\"sat_results\"][\"sat_score\"][0:5])"
   ]
  },
  {
   "cell_type": "code",
   "execution_count": 13,
   "metadata": {},
   "outputs": [
    {
     "name": "stdout",
     "output_type": "stream",
     "text": [
      "0     40.67029890700047\n",
      "1      40.8276026690005\n",
      "2    40.842414068000494\n",
      "3     40.71067947100045\n",
      "4    40.718810094000446\n",
      "Name: lat, dtype: object\n"
     ]
    }
   ],
   "source": [
    "import re\n",
    "\n",
    "def coor(row):\n",
    "    row_coor = re.findall(\"\\(.+\\)\",row) #extract everything in parentheses\n",
    "    row_lat = row_coor[0].split(\",\")[0].replace(\"(\",\"\")\n",
    "    return row_lat\n",
    "data[\"hs_directory\"][\"lat\"] = data[\"hs_directory\"][\"Location 1\"].apply(coor) #find latitude\n",
    "print(data[\"hs_directory\"][\"lat\"][0:5])"
   ]
  },
  {
   "cell_type": "code",
   "execution_count": 14,
   "metadata": {},
   "outputs": [
    {
     "name": "stdout",
     "output_type": "stream",
     "text": [
      "0     -73.96164787599963\n",
      "1     -73.90447525699966\n",
      "2     -73.91616158599965\n",
      "3     -74.00080702099967\n",
      "4     -73.80650045499965\n",
      "Name: lon, dtype: object\n"
     ]
    }
   ],
   "source": [
    "def coor_lon(row):\n",
    "    row_coor = re.findall(\"\\(.+\\)\",row) #extract everything in parentheses\n",
    "    row_lon = row_coor[0].split(\",\")[1].replace(\")\",\"\")\n",
    "    return row_lon\n",
    "data[\"hs_directory\"][\"lon\"] = data[\"hs_directory\"][\"Location 1\"].apply(coor_lon) #find longitude\n",
    "print(data[\"hs_directory\"][\"lon\"][0:5])"
   ]
  },
  {
   "cell_type": "code",
   "execution_count": 15,
   "metadata": {},
   "outputs": [
    {
     "name": "stdout",
     "output_type": "stream",
     "text": [
      "      dbn                                  school_name   borough  \\\n",
      "0  17K548          Brooklyn School for Music & Theatre  Brooklyn   \n",
      "1  09X543             High School for Violin and Dance     Bronx   \n",
      "2  09X327  Comprehensive Model School Project M.S. 327     Bronx   \n",
      "\n",
      "  building_code  phone_number    fax_number  grade_span_min  grade_span_max  \\\n",
      "0          K440  718-230-6250  718-230-6262             9.0              12   \n",
      "1          X400  718-842-0687  718-589-9849             9.0              12   \n",
      "2          X240  718-294-8111  718-294-8109             6.0              12   \n",
      "\n",
      "   expgrade_span_min  expgrade_span_max    ...      \\\n",
      "0                NaN                NaN    ...       \n",
      "1                NaN                NaN    ...       \n",
      "2                NaN                NaN    ...       \n",
      "\n",
      "                                          Location 1 Community Board  \\\n",
      "0  883 Classon Avenue\\nBrooklyn, NY 11225\\n(40.67...             9.0   \n",
      "1  1110 Boston Road\\nBronx, NY 10456\\n(40.8276026...             3.0   \n",
      "2  1501 Jerome Avenue\\nBronx, NY 10452\\n(40.84241...             4.0   \n",
      "\n",
      "  Council District Census Tract        BIN           BBL  \\\n",
      "0             35.0        213.0  3029686.0  3.011870e+09   \n",
      "1             16.0        135.0  2004526.0  2.026340e+09   \n",
      "2             14.0        209.0  2008336.0  2.028590e+09   \n",
      "\n",
      "                                                 NTA     DBN        lat  \\\n",
      "0  Crown Heights South                           ...  17K548  40.670299   \n",
      "1  Morrisania-Melrose                            ...  09X543  40.827603   \n",
      "2  West Concourse                                ...  09X327  40.842414   \n",
      "\n",
      "         lon  \n",
      "0 -73.961648  \n",
      "1 -73.904475  \n",
      "2 -73.916162  \n",
      "\n",
      "[3 rows x 67 columns]\n"
     ]
    }
   ],
   "source": [
    "data[\"hs_directory\"][\"lon\"] = pd.to_numeric(data[\"hs_directory\"][\"lon\"],errors=\"coerce\")\n",
    "data[\"hs_directory\"][\"lat\"] = pd.to_numeric(data[\"hs_directory\"][\"lat\"],errors=\"coerce\")\n",
    "print(data[\"hs_directory\"].head(3))"
   ]
  },
  {
   "cell_type": "code",
   "execution_count": 16,
   "metadata": {},
   "outputs": [
    {
     "name": "stdout",
     "output_type": "stream",
     "text": [
      "     CSD BOROUGH SCHOOL CODE                                    SCHOOL NAME  \\\n",
      "225    1       M        M292  Henry Street School for International Studies   \n",
      "226    1       M        M292  Henry Street School for International Studies   \n",
      "227    1       M        M292  Henry Street School for International Studies   \n",
      "228    1       M        M292  Henry Street School for International Studies   \n",
      "229    1       M        M292  Henry Street School for International Studies   \n",
      "\n",
      "    GRADE  PROGRAM TYPE CORE SUBJECT (MS CORE and 9-12 ONLY)  \\\n",
      "225  09-12       GEN ED                              ENGLISH   \n",
      "226  09-12       GEN ED                              ENGLISH   \n",
      "227  09-12       GEN ED                              ENGLISH   \n",
      "228  09-12       GEN ED                              ENGLISH   \n",
      "229  09-12       GEN ED                                 MATH   \n",
      "\n",
      "    CORE COURSE (MS CORE and 9-12 ONLY) SERVICE CATEGORY(K-9* ONLY)  \\\n",
      "225                           English 9                           -   \n",
      "226                          English 10                           -   \n",
      "227                          English 11                           -   \n",
      "228                          English 12                           -   \n",
      "229                  Integrated Algebra                           -   \n",
      "\n",
      "     NUMBER OF STUDENTS / SEATS FILLED  NUMBER OF SECTIONS  \\\n",
      "225                               63.0                 3.0   \n",
      "226                               79.0                 3.0   \n",
      "227                               38.0                 2.0   \n",
      "228                               69.0                 3.0   \n",
      "229                               53.0                 3.0   \n",
      "\n",
      "     AVERAGE CLASS SIZE  SIZE OF SMALLEST CLASS  SIZE OF LARGEST CLASS  \\\n",
      "225                21.0                    19.0                   25.0   \n",
      "226                26.3                    24.0                   31.0   \n",
      "227                19.0                    16.0                   22.0   \n",
      "228                23.0                    13.0                   30.0   \n",
      "229                17.7                    16.0                   21.0   \n",
      "\n",
      "    DATA SOURCE  SCHOOLWIDE PUPIL-TEACHER RATIO padded_csd     DBN  \n",
      "225       STARS                             NaN         01  01M292  \n",
      "226       STARS                             NaN         01  01M292  \n",
      "227       STARS                             NaN         01  01M292  \n",
      "228       STARS                             NaN         01  01M292  \n",
      "229       STARS                             NaN         01  01M292  \n"
     ]
    }
   ],
   "source": [
    "class_size = data[\"class_size\"]\n",
    "class_size = class_size[class_size[\"GRADE \"] == \"09-12\"]\n",
    "class_size = class_size[class_size[\"PROGRAM TYPE\"] == \"GEN ED\"]\n",
    "print(class_size.head())"
   ]
  },
  {
   "cell_type": "code",
   "execution_count": 17,
   "metadata": {},
   "outputs": [
    {
     "name": "stdout",
     "output_type": "stream",
     "text": [
      "      DBN  CSD  NUMBER OF STUDENTS / SEATS FILLED  NUMBER OF SECTIONS  \\\n",
      "0  01M292    1                            88.0000            4.000000   \n",
      "1  01M332    1                            46.0000            2.000000   \n",
      "2  01M378    1                            33.0000            1.000000   \n",
      "3  01M448    1                           105.6875            4.750000   \n",
      "4  01M450    1                            57.6000            2.733333   \n",
      "\n",
      "   AVERAGE CLASS SIZE  SIZE OF SMALLEST CLASS  SIZE OF LARGEST CLASS  \\\n",
      "0           22.564286                   18.50              26.571429   \n",
      "1           22.000000                   21.00              23.500000   \n",
      "2           33.000000                   33.00              33.000000   \n",
      "3           22.231250                   18.25              27.062500   \n",
      "4           21.200000                   19.40              22.866667   \n",
      "\n",
      "   SCHOOLWIDE PUPIL-TEACHER RATIO  \n",
      "0                             NaN  \n",
      "1                             NaN  \n",
      "2                             NaN  \n",
      "3                             NaN  \n",
      "4                             NaN  \n"
     ]
    }
   ],
   "source": [
    "import numpy\n",
    "class_size = class_size.groupby(\"DBN\").agg(numpy.mean) # make groups by school ids and find average of columns to make rows unique\n",
    "class_size.reset_index(inplace=True) #we reset  to index to make \"DBN\" column again\n",
    "data[\"class_size\"] = class_size\n",
    "print(data[\"class_size\"].head())"
   ]
  },
  {
   "cell_type": "code",
   "execution_count": 18,
   "metadata": {},
   "outputs": [
    {
     "name": "stdout",
     "output_type": "stream",
     "text": [
      "       DBN                                              Name  schoolyear  \\\n",
      "6   01M015  P.S. 015 ROBERTO CLEMENTE                           20112012   \n",
      "13  01M019  P.S. 019 ASHER LEVY                                 20112012   \n",
      "20  01M020  PS 020 ANNA SILVER                                  20112012   \n",
      "27  01M034  PS 034 FRANKLIN D ROOSEVELT                         20112012   \n",
      "35  01M063  PS 063 WILLIAM MCKINLEY                             20112012   \n",
      "\n",
      "   fl_percent  frl_percent  total_enrollment prek    k grade1 grade2  \\\n",
      "6         NaN         89.4               189   13   31     35     28   \n",
      "13        NaN         61.5               328   32   46     52     54   \n",
      "20        NaN         92.5               626   52  102    121     87   \n",
      "27        NaN         99.7               401   14   34     38     36   \n",
      "35        NaN         78.9               176   18   20     30     21   \n",
      "\n",
      "      ...     black_num black_per hispanic_num hispanic_per white_num  \\\n",
      "6     ...            63      33.3          109         57.7         4   \n",
      "13    ...            81      24.7          158         48.2        28   \n",
      "20    ...            55       8.8          357         57.0        16   \n",
      "27    ...            90      22.4          275         68.6         8   \n",
      "35    ...            41      23.3          110         62.5        15   \n",
      "\n",
      "   white_per male_num male_per female_num female_per  \n",
      "6        2.1     97.0     51.3       92.0       48.7  \n",
      "13       8.5    147.0     44.8      181.0       55.2  \n",
      "20       2.6    330.0     52.7      296.0       47.3  \n",
      "27       2.0    204.0     50.9      197.0       49.1  \n",
      "35       8.5     97.0     55.1       79.0       44.9  \n",
      "\n",
      "[5 rows x 38 columns]\n"
     ]
    }
   ],
   "source": [
    "demographics = data[\"demographics\"]\n",
    "demographics = demographics[demographics[\"schoolyear\"] == 20112012]\n",
    "data[\"demographics\"] = demographics\n",
    "print(data[\"demographics\"].head())"
   ]
  },
  {
   "cell_type": "code",
   "execution_count": 19,
   "metadata": {},
   "outputs": [
    {
     "name": "stdout",
     "output_type": "stream",
     "text": [
      "     Demographic     DBN                            School Name Cohort  \\\n",
      "3   Total Cohort  01M292  HENRY STREET SCHOOL FOR INTERNATIONAL   2006   \n",
      "10  Total Cohort  01M448    UNIVERSITY NEIGHBORHOOD HIGH SCHOOL   2006   \n",
      "17  Total Cohort  01M450             EAST SIDE COMMUNITY SCHOOL   2006   \n",
      "24  Total Cohort  01M509                MARTA VALLE HIGH SCHOOL   2006   \n",
      "31  Total Cohort  01M515  LOWER EAST SIDE PREPARATORY HIGH SCHO   2006   \n",
      "\n",
      "    Total Cohort Total Grads - n Total Grads - % of cohort Total Regents - n  \\\n",
      "3             78              43                     55.1%                36   \n",
      "10           124              53                     42.7%                42   \n",
      "17            90              70                     77.8%                67   \n",
      "24            84              47                       56%                40   \n",
      "31           193             105                     54.4%                91   \n",
      "\n",
      "   Total Regents - % of cohort Total Regents - % of grads  \\\n",
      "3                        46.2%                      83.7%   \n",
      "10                       33.9%                      79.2%   \n",
      "17         74.400000000000006%                      95.7%   \n",
      "24                       47.6%                      85.1%   \n",
      "31                       47.2%                      86.7%   \n",
      "\n",
      "              ...            Regents w/o Advanced - n  \\\n",
      "3             ...                                  36   \n",
      "10            ...                                  34   \n",
      "17            ...                                  67   \n",
      "24            ...                                  23   \n",
      "31            ...                                  22   \n",
      "\n",
      "   Regents w/o Advanced - % of cohort Regents w/o Advanced - % of grads  \\\n",
      "3                               46.2%                             83.7%   \n",
      "10                              27.4%                             64.2%   \n",
      "17                74.400000000000006%                             95.7%   \n",
      "24                              27.4%                             48.9%   \n",
      "31                              11.4%                               21%   \n",
      "\n",
      "   Local - n Local - % of cohort Local - % of grads Still Enrolled - n  \\\n",
      "3          7                  9%              16.3%                 16   \n",
      "10        11                8.9%              20.8%                 46   \n",
      "17         3                3.3%               4.3%                 15   \n",
      "24         7  8.300000000000001%              14.9%                 25   \n",
      "31        14                7.3%              13.3%                 53   \n",
      "\n",
      "   Still Enrolled - % of cohort Dropped Out - n Dropped Out - % of cohort  \n",
      "3                         20.5%              11                     14.1%  \n",
      "10                        37.1%              20       16.100000000000001%  \n",
      "17                        16.7%               5                      5.6%  \n",
      "24                        29.8%               5                        6%  \n",
      "31                        27.5%              35       18.100000000000001%  \n",
      "\n",
      "[5 rows x 23 columns]\n"
     ]
    }
   ],
   "source": [
    "graduation = data[\"graduation\"]\n",
    "graduation =graduation[graduation[\"Cohort\"] == \"2006\"]\n",
    "graduation =graduation[graduation[\"Demographic\"] == \"Total Cohort\"]\n",
    "data[\"graduation\"] = graduation\n",
    "print(data[\"graduation\"].head())"
   ]
  },
  {
   "cell_type": "code",
   "execution_count": 20,
   "metadata": {},
   "outputs": [
    {
     "name": "stdout",
     "output_type": "stream",
     "text": [
      "      DBN                             SchoolName  AP Test Takers   \\\n",
      "0  01M448           UNIVERSITY NEIGHBORHOOD H.S.             39.0   \n",
      "1  01M450                 EAST SIDE COMMUNITY HS             19.0   \n",
      "2  01M515                    LOWER EASTSIDE PREP             24.0   \n",
      "3  01M539         NEW EXPLORATIONS SCI,TECH,MATH            255.0   \n",
      "4  02M296  High School of Hospitality Management              NaN   \n",
      "\n",
      "   Total Exams Taken  Number of Exams with scores 3 4 or 5  \n",
      "0               49.0                                  10.0  \n",
      "1               21.0                                   NaN  \n",
      "2               26.0                                  24.0  \n",
      "3              377.0                                 191.0  \n",
      "4                NaN                                   NaN  \n"
     ]
    }
   ],
   "source": [
    "cols = ['AP Test Takers ', 'Total Exams Taken', 'Number of Exams with scores 3 4 or 5']\n",
    "ap_2010 = data[\"ap_2010\"]\n",
    "for r in range(0,3):\n",
    "    ap_2010[cols[r]]=pd.to_numeric(ap_2010[cols[r]],errors=\"coerce\")\n",
    "data[\"ap_2010\"] = ap_2010\n",
    "print(data[\"ap_2010\"].head())"
   ]
  },
  {
   "cell_type": "code",
   "execution_count": 21,
   "metadata": {},
   "outputs": [
    {
     "name": "stdout",
     "output_type": "stream",
     "text": [
      "(479, 33)\n",
      "      DBN                                    SCHOOL NAME  \\\n",
      "0  01M292  HENRY STREET SCHOOL FOR INTERNATIONAL STUDIES   \n",
      "1  01M448            UNIVERSITY NEIGHBORHOOD HIGH SCHOOL   \n",
      "2  01M450                     EAST SIDE COMMUNITY SCHOOL   \n",
      "3  01M458                      FORSYTH SATELLITE ACADEMY   \n",
      "4  01M509                        MARTA VALLE HIGH SCHOOL   \n",
      "\n",
      "  Num of SAT Test Takers  SAT Critical Reading Avg. Score  \\\n",
      "0                     29                            355.0   \n",
      "1                     91                            383.0   \n",
      "2                     70                            377.0   \n",
      "3                      7                            414.0   \n",
      "4                     44                            390.0   \n",
      "\n",
      "   SAT Math Avg. Score  SAT Writing Avg. Score  sat_score  \\\n",
      "0                404.0                   363.0     1122.0   \n",
      "1                423.0                   366.0     1172.0   \n",
      "2                402.0                   370.0     1149.0   \n",
      "3                401.0                   359.0     1174.0   \n",
      "4                433.0                   384.0     1207.0   \n",
      "\n",
      "                     SchoolName  AP Test Takers   Total Exams Taken  \\\n",
      "0                           NaN              NaN                NaN   \n",
      "1  UNIVERSITY NEIGHBORHOOD H.S.             39.0               49.0   \n",
      "2        EAST SIDE COMMUNITY HS             19.0               21.0   \n",
      "3                           NaN              NaN                NaN   \n",
      "4                           NaN              NaN                NaN   \n",
      "\n",
      "             ...             Regents w/o Advanced - n  \\\n",
      "0            ...                                   36   \n",
      "1            ...                                   34   \n",
      "2            ...                                   67   \n",
      "3            ...                                  NaN   \n",
      "4            ...                                   23   \n",
      "\n",
      "  Regents w/o Advanced - % of cohort Regents w/o Advanced - % of grads  \\\n",
      "0                              46.2%                             83.7%   \n",
      "1                              27.4%                             64.2%   \n",
      "2                74.400000000000006%                             95.7%   \n",
      "3                                NaN                               NaN   \n",
      "4                              27.4%                             48.9%   \n",
      "\n",
      "  Local - n  Local - % of cohort Local - % of grads Still Enrolled - n  \\\n",
      "0         7                   9%              16.3%                 16   \n",
      "1        11                 8.9%              20.8%                 46   \n",
      "2         3                 3.3%               4.3%                 15   \n",
      "3       NaN                  NaN                NaN                NaN   \n",
      "4         7   8.300000000000001%              14.9%                 25   \n",
      "\n",
      "  Still Enrolled - % of cohort Dropped Out - n Dropped Out - % of cohort  \n",
      "0                        20.5%              11                     14.1%  \n",
      "1                        37.1%              20       16.100000000000001%  \n",
      "2                        16.7%               5                      5.6%  \n",
      "3                          NaN             NaN                       NaN  \n",
      "4                        29.8%               5                        6%  \n",
      "\n",
      "[5 rows x 33 columns]\n"
     ]
    }
   ],
   "source": [
    "combined = data[\"sat_results\"]\n",
    "combined = combined.merge(data[\"ap_2010\"],on=\"DBN\",how=\"left\") #merge datasets.left right inner or outer for how attribute\n",
    "combined = combined.merge(data[\"graduation\"],on=\"DBN\",how=\"left\")\n",
    "print(combined.shape) #shows how many rows and columns\n",
    "print(combined.head())"
   ]
  },
  {
   "cell_type": "code",
   "execution_count": 22,
   "metadata": {},
   "outputs": [
    {
     "name": "stdout",
     "output_type": "stream",
     "text": [
      "(363, 165)\n",
      "      DBN                                        SCHOOL NAME  \\\n",
      "0  01M292      HENRY STREET SCHOOL FOR INTERNATIONAL STUDIES   \n",
      "1  01M448                UNIVERSITY NEIGHBORHOOD HIGH SCHOOL   \n",
      "2  01M450                         EAST SIDE COMMUNITY SCHOOL   \n",
      "3  01M509                            MARTA VALLE HIGH SCHOOL   \n",
      "4  01M539  NEW EXPLORATIONS INTO SCIENCE, TECHNOLOGY AND ...   \n",
      "\n",
      "  Num of SAT Test Takers  SAT Critical Reading Avg. Score  \\\n",
      "0                     29                            355.0   \n",
      "1                     91                            383.0   \n",
      "2                     70                            377.0   \n",
      "3                     44                            390.0   \n",
      "4                    159                            522.0   \n",
      "\n",
      "   SAT Math Avg. Score  SAT Writing Avg. Score  sat_score  \\\n",
      "0                404.0                   363.0     1122.0   \n",
      "1                423.0                   366.0     1172.0   \n",
      "2                402.0                   370.0     1149.0   \n",
      "3                433.0                   384.0     1207.0   \n",
      "4                574.0                   525.0     1621.0   \n",
      "\n",
      "                       SchoolName  AP Test Takers   Total Exams Taken  \\\n",
      "0                             NaN              NaN                NaN   \n",
      "1    UNIVERSITY NEIGHBORHOOD H.S.             39.0               49.0   \n",
      "2          EAST SIDE COMMUNITY HS             19.0               21.0   \n",
      "3                             NaN              NaN                NaN   \n",
      "4  NEW EXPLORATIONS SCI,TECH,MATH            255.0              377.0   \n",
      "\n",
      "     ...      priority10                                         Location 1  \\\n",
      "0    ...             NaN  220 Henry Street\\nNew York, NY 10002\\n(40.7137...   \n",
      "1    ...             NaN  200 Monroe Street\\nNew York, NY 10002\\n(40.712...   \n",
      "2    ...             NaN  420 East 12 Street\\nNew York, NY 10009\\n(40.72...   \n",
      "3    ...             NaN  145 Stanton Street\\nNew York, NY 10002\\n(40.72...   \n",
      "4    ...             NaN  111 Columbia Street\\nNew York, NY 10002\\n(40.7...   \n",
      "\n",
      "  Community Board Council District  Census Tract        BIN           BBL  \\\n",
      "0             3.0              1.0         201.0  1003223.0  1.002690e+09   \n",
      "1             3.0              1.0         202.0  1003214.0  1.002590e+09   \n",
      "2             3.0              2.0          34.0  1005974.0  1.004390e+09   \n",
      "3             3.0              1.0        3001.0  1004323.0  1.003540e+09   \n",
      "4             3.0              2.0        2201.0  1004070.0  1.003350e+09   \n",
      "\n",
      "                                                 NTA        lat        lon  \n",
      "0  Lower East Side                               ...  40.713764 -73.985260  \n",
      "1  Lower East Side                               ...  40.712332 -73.984797  \n",
      "2  East Village                                  ...  40.729783 -73.983041  \n",
      "3  Chinatown                                     ...  40.720569 -73.985673  \n",
      "4  Lower East Side                               ...  40.718725 -73.979426  \n",
      "\n",
      "[5 rows x 165 columns]\n"
     ]
    }
   ],
   "source": [
    "combined = combined.merge(data[\"class_size\"],on=\"DBN\",how=\"inner\")\n",
    "combined = combined.merge(data[\"demographics\"],on=\"DBN\",how=\"inner\")\n",
    "combined = combined.merge(data[\"survey\"],on=\"DBN\",how=\"inner\")\n",
    "combined = combined.merge(data[\"hs_directory\"],on=\"DBN\",how=\"inner\")\n",
    "print(combined.shape)\n",
    "print(combined.head())"
   ]
  },
  {
   "cell_type": "code",
   "execution_count": 23,
   "metadata": {},
   "outputs": [
    {
     "name": "stdout",
     "output_type": "stream",
     "text": [
      "      DBN                                        SCHOOL NAME  \\\n",
      "0  01M292      HENRY STREET SCHOOL FOR INTERNATIONAL STUDIES   \n",
      "1  01M448                UNIVERSITY NEIGHBORHOOD HIGH SCHOOL   \n",
      "2  01M450                         EAST SIDE COMMUNITY SCHOOL   \n",
      "3  01M509                            MARTA VALLE HIGH SCHOOL   \n",
      "4  01M539  NEW EXPLORATIONS INTO SCIENCE, TECHNOLOGY AND ...   \n",
      "\n",
      "  Num of SAT Test Takers  SAT Critical Reading Avg. Score  \\\n",
      "0                     29                            355.0   \n",
      "1                     91                            383.0   \n",
      "2                     70                            377.0   \n",
      "3                     44                            390.0   \n",
      "4                    159                            522.0   \n",
      "\n",
      "   SAT Math Avg. Score  SAT Writing Avg. Score  sat_score  \\\n",
      "0                404.0                   363.0     1122.0   \n",
      "1                423.0                   366.0     1172.0   \n",
      "2                402.0                   370.0     1149.0   \n",
      "3                433.0                   384.0     1207.0   \n",
      "4                574.0                   525.0     1621.0   \n",
      "\n",
      "                       SchoolName  AP Test Takers   Total Exams Taken  \\\n",
      "0                               0       129.028846         197.038462   \n",
      "1    UNIVERSITY NEIGHBORHOOD H.S.        39.000000          49.000000   \n",
      "2          EAST SIDE COMMUNITY HS        19.000000          21.000000   \n",
      "3                               0       129.028846         197.038462   \n",
      "4  NEW EXPLORATIONS SCI,TECH,MATH       255.000000         377.000000   \n",
      "\n",
      "     ...      priority10                                         Location 1  \\\n",
      "0    ...               0  220 Henry Street\\nNew York, NY 10002\\n(40.7137...   \n",
      "1    ...               0  200 Monroe Street\\nNew York, NY 10002\\n(40.712...   \n",
      "2    ...               0  420 East 12 Street\\nNew York, NY 10009\\n(40.72...   \n",
      "3    ...               0  145 Stanton Street\\nNew York, NY 10002\\n(40.72...   \n",
      "4    ...               0  111 Columbia Street\\nNew York, NY 10002\\n(40.7...   \n",
      "\n",
      "  Community Board Council District  Census Tract        BIN           BBL  \\\n",
      "0             3.0              1.0         201.0  1003223.0  1.002690e+09   \n",
      "1             3.0              1.0         202.0  1003214.0  1.002590e+09   \n",
      "2             3.0              2.0          34.0  1005974.0  1.004390e+09   \n",
      "3             3.0              1.0        3001.0  1004323.0  1.003540e+09   \n",
      "4             3.0              2.0        2201.0  1004070.0  1.003350e+09   \n",
      "\n",
      "                                                 NTA        lat        lon  \n",
      "0  Lower East Side                               ...  40.713764 -73.985260  \n",
      "1  Lower East Side                               ...  40.712332 -73.984797  \n",
      "2  East Village                                  ...  40.729783 -73.983041  \n",
      "3  Chinatown                                     ...  40.720569 -73.985673  \n",
      "4  Lower East Side                               ...  40.718725 -73.979426  \n",
      "\n",
      "[5 rows x 165 columns]\n"
     ]
    }
   ],
   "source": [
    "combined = combined.fillna(combined.mean())\n",
    "combined = combined.fillna(0)\n",
    "print(combined.head())"
   ]
  },
  {
   "cell_type": "code",
   "execution_count": 24,
   "metadata": {},
   "outputs": [
    {
     "name": "stdout",
     "output_type": "stream",
     "text": [
      "0    01\n",
      "1    01\n",
      "2    01\n",
      "3    01\n",
      "4    01\n",
      "Name: school_dist, dtype: object\n"
     ]
    }
   ],
   "source": [
    "def first_two(string):\n",
    "    return string[0:2]\n",
    "combined[\"school_dist\"]=combined[\"DBN\"].apply(first_two)\n",
    "print(combined[\"school_dist\"][0:5])"
   ]
  },
  {
   "cell_type": "code",
   "execution_count": 40,
   "metadata": {},
   "outputs": [],
   "source": [
    "correlations = combined.corr() # dataframe.corr() finds correlations and assign it to a new dataset.+1 and -1 negative and positive corr. 0 is weak corr\n",
    "#correlations = correlations[\"sat_score\"]\n",
    "#print(correlations)"
   ]
  },
  {
   "cell_type": "code",
   "execution_count": 26,
   "metadata": {},
   "outputs": [
    {
     "data": {
      "image/png": "[encoded data removed]",
      "text/plain": [
       "<matplotlib.figure.Figure at 0x6a13d94f98>"
      ]
     },
     "metadata": {},
     "output_type": "display_data"
    }
   ],
   "source": [
    "import matplotlib.pyplot as plt\n",
    "combined.plot.scatter(x=\"total_enrollment\",y=\"sat_score\")\n",
    "plt.show()"
   ]
  },
  {
   "cell_type": "code",
   "execution_count": 27,
   "metadata": {},
   "outputs": [
    {
     "name": "stdout",
     "output_type": "stream",
     "text": [
      "91       INTERNATIONAL COMMUNITY HIGH SCHOOL\n",
      "125                                        0\n",
      "126          BRONX INTERNATIONAL HIGH SCHOOL\n",
      "139    KINGSBRIDGE INTERNATIONAL HIGH SCHOOL\n",
      "141    INTERNATIONAL SCHOOL FOR LIBERAL ARTS\n",
      "176                                        0\n",
      "179            HIGH SCHOOL OF WORLD CULTURES\n",
      "188       BROOKLYN INTERNATIONAL HIGH SCHOOL\n",
      "225    INTERNATIONAL HIGH SCHOOL AT PROSPECT\n",
      "237               IT TAKES A VILLAGE ACADEMY\n",
      "253                MULTICULTURAL HIGH SCHOOL\n",
      "286    PAN AMERICAN INTERNATIONAL HIGH SCHOO\n",
      "Name: School Name, dtype: object\n"
     ]
    }
   ],
   "source": [
    "low_enrollment = combined[combined[\"total_enrollment\"] < 1000]\n",
    "low_enrollment = combined[combined[\"sat_score\"] < 1000]\n",
    "print(low_enrollment[\"School Name\"])"
   ]
  },
  {
   "cell_type": "code",
   "execution_count": 28,
   "metadata": {},
   "outputs": [
    {
     "data": {
      "image/png": "[encoded data removed]",
      "text/plain": [
       "<matplotlib.figure.Figure at 0x6a13e3df60>"
      ]
     },
     "metadata": {},
     "output_type": "display_data"
    }
   ],
   "source": [
    "combined.plot.scatter(x=\"ell_percent\",y=\"sat_score\")\n",
    "plt.show()"
   ]
  },
  {
   "cell_type": "code",
   "execution_count": null,
   "metadata": {},
   "outputs": [],
   "source": [
    "#map of english language learners for new york city\n",
    "\"\"\"\n",
    "from mpl_toolkits.basemap import Basemap\n",
    "m = Basemap(\n",
    "    projection='merc', \n",
    "    llcrnrlat=40.496044, \n",
    "    urcrnrlat=40.915256, \n",
    "    llcrnrlon=-74.255735, \n",
    "    urcrnrlon=-73.700272,\n",
    "    resolution='i'\n",
    ")\n",
    "\n",
    "m.drawmapboundary(fill_color='#85A6D9')\n",
    "m.drawcoastlines(color='#6D5F47', linewidth=.4)\n",
    "m.drawrivers(color='#6D5F47', linewidth=.4) #new york city map\n",
    "\n",
    "longitudes = combined[\"lon\"].tolist()\n",
    "latitudes = combined[\"lat\"].tolist()\n",
    "m.scatter(longitudes,latitudes,s=20,zorder=2,latlon=True,c=combined[\"ell_percent\"],cmap=\"summer\") #creates summer color points of ell_percent\n",
    "plt.show()\n",
    "\"\"\""
   ]
  },
  {
   "cell_type": "code",
   "execution_count": 35,
   "metadata": {},
   "outputs": [
    {
     "name": "stdout",
     "output_type": "stream",
     "text": [
      "  school_dist  SAT Critical Reading Avg. Score  SAT Math Avg. Score  \\\n",
      "0          01                       441.833333           473.333333   \n",
      "1          02                       426.619092           444.186256   \n",
      "2          03                       428.529851           437.997512   \n",
      "3          04                       402.142857           416.285714   \n",
      "4          05                       427.159915           438.236674   \n",
      "\n",
      "   SAT Writing Avg. Score    sat_score  AP Test Takers   Total Exams Taken  \\\n",
      "0              439.333333  1354.500000       116.681090         173.019231   \n",
      "1              424.832836  1295.638184       128.908454         201.516827   \n",
      "2              426.915672  1293.443035       156.183494         244.522436   \n",
      "3              405.714286  1224.142857       129.016484         183.879121   \n",
      "4              419.666098  1285.062687        85.722527         115.725275   \n",
      "\n",
      "   Number of Exams with scores 3 4 or 5  Total Cohort  CSD    ...      \\\n",
      "0                            135.800000     93.500000  1.0    ...       \n",
      "1                            157.495833    158.647849  2.0    ...       \n",
      "2                            193.087500    183.384409  3.0    ...       \n",
      "3                            151.035714    113.857143  4.0    ...       \n",
      "4                            142.464286    143.677419  5.0    ...       \n",
      "\n",
      "   priority08  priority09  priority10  Community Board  Council District  \\\n",
      "0         0.0         0.0         0.0         3.000000          1.500000   \n",
      "1         0.0         0.0         0.0         4.204005          2.963296   \n",
      "2         0.0         0.0         0.0         7.500000          6.500000   \n",
      "3         0.0         0.0         0.0        11.000000          8.000000   \n",
      "4         0.0         0.0         0.0         9.428571          8.142857   \n",
      "\n",
      "   Census Tract           BIN           BBL        lat        lon  \n",
      "0   1106.833333  1.004144e+06  1.003302e+09  40.719022 -73.982377  \n",
      "1   1132.479744  1.103862e+06  1.070438e+09  40.739699 -73.991386  \n",
      "2    166.666667  1.034931e+06  1.012833e+09  40.781574 -73.977370  \n",
      "3   2637.000000  1.055874e+06  1.016681e+09  40.793449 -73.943215  \n",
      "4   9372.571429  1.063080e+06  1.019721e+09  40.817077 -73.949251  \n",
      "\n",
      "[5 rows x 75 columns]\n"
     ]
    }
   ],
   "source": [
    "import numpy\n",
    "districts = combined.groupby(\"school_dist\").agg(numpy.mean) #average of all columns for each districts\n",
    "districts.reset_index(inplace=True)\n",
    "print(districts.head())"
   ]
  },
  {
   "cell_type": "code",
   "execution_count": null,
   "metadata": {
    "collapsed": true
   },
   "outputs": [],
   "source": [
    "#map of average english language learners for new york city \n",
    "\"\"\"\n",
    "from mpl_toolkits.basemap import Basemap\n",
    "m = Basemap(\n",
    "    projection='merc', \n",
    "    llcrnrlat=40.496044, \n",
    "    urcrnrlat=40.915256, \n",
    "    llcrnrlon=-74.255735, \n",
    "    urcrnrlon=-73.700272,\n",
    "    resolution='i'\n",
    ")\n",
    "\n",
    "m.drawmapboundary(fill_color='#85A6D9')\n",
    "m.drawcoastlines(color='#6D5F47', linewidth=.4)\n",
    "m.drawrivers(color='#6D5F47', linewidth=.4) #new york city map\n",
    "\n",
    "longitudes = districts[\"lon\"].tolist()\n",
    "latitudes = districts[\"lat\"].tolist()\n",
    "m.scatter(longitudes,latitudes,s=50,zorder=2,latlon=True,c=districts[\"ell_percent\"],cmap=\"summer\") #creates summer color points for average of ell_percent\n",
    "plt.show()\n",
    "\"\"\""
   ]
  },
  {
   "cell_type": "code",
   "execution_count": 46,
   "metadata": {},
   "outputs": [
    {
     "data": {
      "image/png": "[encoded data removed]",
      "text/plain": [
       "<matplotlib.figure.Figure at 0x6a132c18d0>"
      ]
     },
     "metadata": {},
     "output_type": "display_data"
    }
   ],
   "source": [
    "%matplotlib inline\n",
    "combined.corr()[\"sat_score\"][col].plot.bar()\n",
    "plt.show()\n"
   ]
  },
  {
   "cell_type": "code",
   "execution_count": 47,
   "metadata": {},
   "outputs": [
    {
     "data": {
      "image/png": "[encoded data removed]",
      "text/plain": [
       "<matplotlib.figure.Figure at 0x6a128e5588>"
      ]
     },
     "metadata": {},
     "output_type": "display_data"
    }
   ],
   "source": [
    "combined.plot.scatter(x=\"saf_s_11\",y=\"sat_score\") #safety  vs sat score\n",
    "plt.show()"
   ]
  },
  {
   "cell_type": "code",
   "execution_count": null,
   "metadata": {
    "collapsed": true
   },
   "outputs": [],
   "source": [
    "#map of safety for new york city \n",
    "\"\"\"\n",
    "districts = combined.groupby(\"school_dist\").agg(numpy.mean) #average of all columns for each districts\n",
    "districts.reset_index(inplace=True)\n",
    "\n",
    "from mpl_toolkits.basemap import Basemap\n",
    "m = Basemap(\n",
    "    projection='merc', \n",
    "    llcrnrlat=40.496044, \n",
    "    urcrnrlat=40.915256, \n",
    "    llcrnrlon=-74.255735, \n",
    "    urcrnrlon=-73.700272,\n",
    "    resolution='i'\n",
    ")\n",
    "\n",
    "m.drawmapboundary(fill_color='#85A6D9')\n",
    "m.drawcoastlines(color='#6D5F47', linewidth=.4)\n",
    "m.drawrivers(color='#6D5F47', linewidth=.4) #new york city map\n",
    "\n",
    "longitudes = districts[\"lon\"].tolist()\n",
    "latitudes = districts[\"lat\"].tolist()\n",
    "m.scatter(longitudes,latitudes,s=50,zorder=2,latlon=True,c=districts[\"saf_s_11\"],cmap=\"summer\") #creates summer color points for average of ell_percent\n",
    "plt.show()\n",
    "\"\"\""
   ]
  },
  {
   "cell_type": "code",
   "execution_count": 48,
   "metadata": {},
   "outputs": [
    {
     "data": {
      "image/png": "[encoded data removed]",
      "text/plain": [
       "<matplotlib.figure.Figure at 0x6a12910f98>"
      ]
     },
     "metadata": {},
     "output_type": "display_data"
    }
   ],
   "source": [
    "races = [\"white_per\",\"asian_per\",\"black_per\",\"hispanic_per\"]\n",
    "combined.corr()[\"sat_score\"][races].plot.bar() #bar plot of correlation between races and sat score.\n",
    "plt.show()"
   ]
  },
  {
   "cell_type": "code",
   "execution_count": 51,
   "metadata": {},
   "outputs": [
    {
     "name": "stdout",
     "output_type": "stream",
     "text": [
      "        DBN                                        SCHOOL NAME  \\\n",
      "44   02M542                      MANHATTAN BRIDGES HIGH SCHOOL   \n",
      "82   06M348   WASHINGTON HEIGHTS EXPEDITIONARY LEARNING SCHOOL   \n",
      "89   06M552  GREGORIO LUPERON HIGH SCHOOL FOR SCIENCE AND M...   \n",
      "125  09X365                ACADEMY FOR LANGUAGE AND TECHNOLOGY   \n",
      "141  10X342              INTERNATIONAL SCHOOL FOR LIBERAL ARTS   \n",
      "176  12X388   PAN AMERICAN INTERNATIONAL HIGH SCHOOL AT MONROE   \n",
      "253  19K583                          MULTICULTURAL HIGH SCHOOL   \n",
      "286  24Q296             PAN AMERICAN INTERNATIONAL HIGH SCHOOL   \n",
      "\n",
      "    Num of SAT Test Takers  SAT Critical Reading Avg. Score  \\\n",
      "44                      66                            336.0   \n",
      "82                      70                            380.0   \n",
      "89                      56                            339.0   \n",
      "125                     54                            315.0   \n",
      "141                     49                            300.0   \n",
      "176                     30                            321.0   \n",
      "253                     29                            279.0   \n",
      "286                     55                            317.0   \n",
      "\n",
      "     SAT Math Avg. Score  SAT Writing Avg. Score  sat_score  \\\n",
      "44                 378.0                   344.0     1058.0   \n",
      "82                 395.0                   399.0     1174.0   \n",
      "89                 349.0                   326.0     1014.0   \n",
      "125                339.0                   297.0      951.0   \n",
      "141                333.0                   301.0      934.0   \n",
      "176                351.0                   298.0      970.0   \n",
      "253                322.0                   286.0      887.0   \n",
      "286                323.0                   311.0      951.0   \n",
      "\n",
      "                                SchoolName  AP Test Takers   \\\n",
      "44           Manhattan Bridges High School        67.000000   \n",
      "82                                       0       129.028846   \n",
      "89          GREGORIO LUPERON HS SCI & MATH        88.000000   \n",
      "125    Academy for Language and Technology        20.000000   \n",
      "141  International School for Liberal Arts        55.000000   \n",
      "176                                      0       129.028846   \n",
      "253              Multicultural High School        44.000000   \n",
      "286                                      0       129.028846   \n",
      "\n",
      "     Total Exams Taken     ...      \\\n",
      "44          102.000000     ...       \n",
      "82          197.038462     ...       \n",
      "89          138.000000     ...       \n",
      "125          20.000000     ...       \n",
      "141          73.000000     ...       \n",
      "176         197.038462     ...       \n",
      "253          44.000000     ...       \n",
      "286         197.038462     ...       \n",
      "\n",
      "                                            Location 1 Community Board  \\\n",
      "44   525 West 50Th Street\\nNew York, NY 10019\\n(40....        4.000000   \n",
      "82   511 West 182Nd Street\\nNew York, NY 10033\\n(40...       12.000000   \n",
      "89   501 West 165Th\\nNew York, NY 10032\\n(40.838032...        6.792244   \n",
      "125  1700 Macombs Road\\nBronx, NY 10453\\n(40.849102...        5.000000   \n",
      "141  2780 Reservoir Avenue\\nBronx, NY 10468\\n(40.87...        7.000000   \n",
      "176  1300 Boynton Avenue\\nBronx, NY 10472\\n(40.8313...        9.000000   \n",
      "253  999 Jamaica Avenue\\nBrooklyn, NY 11208\\n(40.69...        5.000000   \n",
      "286  45 10 94Th Street\\nElmhurst, NY 11373\\n(40.743...        4.000000   \n",
      "\n",
      "    Council District  Census Tract           BIN           BBL  \\\n",
      "44          3.000000    135.000000  1.083802e+06  1.010790e+09   \n",
      "82         10.000000    269.000000  1.063703e+06  1.021550e+09   \n",
      "89         22.238227   3760.027701  2.587480e+06  2.515083e+09   \n",
      "125        14.000000  21502.000000  2.008460e+06  2.028660e+09   \n",
      "141        11.000000    409.000000  2.015241e+06  2.032470e+09   \n",
      "176        18.000000     56.000000  2.027459e+06  2.038640e+09   \n",
      "253        37.000000   1180.000000  3.090738e+06  3.040940e+09   \n",
      "286        25.000000    463.000000  4.437166e+06  4.016000e+09   \n",
      "\n",
      "                                                   NTA        lat        lon  \\\n",
      "44   Clinton                                       ...  40.765027 -73.992517   \n",
      "82   Washington Heights North                      ...  40.848879 -73.930807   \n",
      "89                                                   0  40.838032 -73.938371   \n",
      "125  University Heights-Morris Heights             ...  40.849102 -73.916088   \n",
      "141  Van Cortlandt Village                         ...  40.870377 -73.898163   \n",
      "176  West Farms-Bronx River                        ...  40.831366 -73.878823   \n",
      "253  park-cemetery-etc-Brooklyn                    ...  40.691144 -73.868426   \n",
      "286  Elmhurst                                      ...  40.743303 -73.870575   \n",
      "\n",
      "    school_dist  \n",
      "44           02  \n",
      "82           06  \n",
      "89           06  \n",
      "125          09  \n",
      "141          10  \n",
      "176          12  \n",
      "253          19  \n",
      "286          24  \n",
      "\n",
      "[8 rows x 166 columns]\n"
     ]
    }
   ],
   "source": [
    "hisp_schools = combined[combined[\"hispanic_per\"] > 95] #schools with big percentage of hispanic students\n",
    "print(hisp_schools)"
   ]
  },
  {
   "cell_type": "code",
   "execution_count": 52,
   "metadata": {},
   "outputs": [
    {
     "name": "stdout",
     "output_type": "stream",
     "text": [
      "        DBN                                        SCHOOL NAME  \\\n",
      "5    01M696                     BARD HIGH SCHOOL EARLY COLLEGE   \n",
      "37   02M475                             STUYVESANT HIGH SCHOOL   \n",
      "79   05M692  HIGH SCHOOL FOR MATHEMATICS, SCIENCE AND ENGIN...   \n",
      "151  10X445                       BRONX HIGH SCHOOL OF SCIENCE   \n",
      "155  10X696  HIGH SCHOOL OF AMERICAN STUDIES AT LEHMAN COLLEGE   \n",
      "187  13K430                     BROOKLYN TECHNICAL HIGH SCHOOL   \n",
      "302  25Q525                        TOWNSEND HARRIS HIGH SCHOOL   \n",
      "327  28Q687  QUEENS HIGH SCHOOL FOR THE SCIENCES AT YORK CO...   \n",
      "356  31R605                STATEN ISLAND TECHNICAL HIGH SCHOOL   \n",
      "\n",
      "    Num of SAT Test Takers  SAT Critical Reading Avg. Score  \\\n",
      "5                      130                            624.0   \n",
      "37                     832                            679.0   \n",
      "79                     101                            605.0   \n",
      "151                    731                            632.0   \n",
      "155                     92                            636.0   \n",
      "187                   1277                            587.0   \n",
      "302                    278                            621.0   \n",
      "327                    121                            612.0   \n",
      "356                    227                            635.0   \n",
      "\n",
      "     SAT Math Avg. Score  SAT Writing Avg. Score  sat_score  \\\n",
      "5                  604.0                   628.0     1856.0   \n",
      "37                 735.0                   682.0     2096.0   \n",
      "79                 654.0                   588.0     1847.0   \n",
      "151                688.0                   649.0     1969.0   \n",
      "155                648.0                   636.0     1920.0   \n",
      "187                659.0                   587.0     1833.0   \n",
      "302                651.0                   638.0     1910.0   \n",
      "327                660.0                   596.0     1868.0   \n",
      "356                682.0                   636.0     1953.0   \n",
      "\n",
      "                                            SchoolName  AP Test Takers   \\\n",
      "5                                                    0       129.028846   \n",
      "37                                       STUYVESANT HS      1510.000000   \n",
      "79     HIGH SCHOOL FOR MATH SCIENCE ENGINEERING @ CCNY       114.000000   \n",
      "151                                BRONX HS OF SCIENCE      1190.000000   \n",
      "155  HIGH SCHOOL OF AMERICAN STUDIES At Lehman College       194.000000   \n",
      "187                              BROOKLYN TECHNICAL HS      2117.000000   \n",
      "302                                 TOWNSEND HARRIS HS       613.000000   \n",
      "327                Queens HS for Science York Colllege       215.000000   \n",
      "356                         STATEN ISLAND TECHNICAL HS       528.000000   \n",
      "\n",
      "     Total Exams Taken     ...      \\\n",
      "5           197.038462     ...       \n",
      "37         2819.000000     ...       \n",
      "79          124.000000     ...       \n",
      "151        2435.000000     ...       \n",
      "155         302.000000     ...       \n",
      "187        3692.000000     ...       \n",
      "302         796.000000     ...       \n",
      "327         338.000000     ...       \n",
      "356         905.000000     ...       \n",
      "\n",
      "                                            Location 1 Community Board  \\\n",
      "5    525 East Houston Street\\nNew York, NY 10002\\n(...             3.0   \n",
      "37   345 Chambers Street\\nNew York, NY 10282\\n(40.7...             1.0   \n",
      "79   240 Convent Ave\\nNew York, NY 10031\\n(40.82112...             9.0   \n",
      "151  75 West 205 Street\\nBronx, NY 10468\\n(40.87705...             7.0   \n",
      "155  2925 Goulden Avenue\\nBronx, NY 10468\\n(40.8712...             8.0   \n",
      "187  29 Ft Greene Place\\nBrooklyn, NY 11217\\n(40.68...             2.0   \n",
      "302  149 11 Melbourne Avenue\\nFlushing, NY 11367\\n(...             8.0   \n",
      "327  94 50 159 Street\\nJamaica, NY 11433\\n(40.70099...            12.0   \n",
      "356  485 Clawson Street Staten Island\\nNY 10306\\n(4...             2.0   \n",
      "\n",
      "    Council District Census Tract        BIN           BBL  \\\n",
      "5                2.0       1002.0  1004062.0  1.003250e+09   \n",
      "37               1.0      31703.0  1084587.0  1.000160e+09   \n",
      "79               9.0      21703.0  1084085.0  1.019570e+09   \n",
      "151             11.0        409.0  2094706.0  2.032510e+09   \n",
      "155             11.0        409.0  2015222.0  2.032460e+09   \n",
      "187             35.0         33.0  3058752.0  3.020980e+09   \n",
      "302             24.0        809.0  4538714.0  4.065070e+09   \n",
      "327             27.0        246.0  4215611.0  4.100990e+09   \n",
      "356             50.0        134.0  5107621.0  5.042440e+09   \n",
      "\n",
      "                                                   NTA        lat        lon  \\\n",
      "5    Lower East Side                               ...  40.718962 -73.976066   \n",
      "37   Battery Park City-Lower Manhattan             ...  40.717746 -74.014049   \n",
      "79   Manhattanville                                ...  40.821123 -73.948845   \n",
      "151  Van Cortlandt Village                         ...  40.877056 -73.889780   \n",
      "155  Van Cortlandt Village                         ...  40.871255 -73.897516   \n",
      "187  Fort Greene                                   ...  40.688107 -73.976745   \n",
      "302  Kew Gardens Hills                             ...  40.734408 -73.821417   \n",
      "327  Jamaica                                       ...  40.700999 -73.798154   \n",
      "356  New Dorp-Midland Beach                        ...  40.567913 -74.115362   \n",
      "\n",
      "    school_dist  \n",
      "5            01  \n",
      "37           02  \n",
      "79           05  \n",
      "151          10  \n",
      "155          10  \n",
      "187          13  \n",
      "302          25  \n",
      "327          28  \n",
      "356          31  \n",
      "\n",
      "[9 rows x 166 columns]\n"
     ]
    }
   ],
   "source": [
    "less_hisp = combined[combined[\"hispanic_per\"] < 10] # schools with less hispanic and high sat scores\n",
    "less_hisp = combined[combined[\"sat_score\"] > 1800]\n",
    "print(less_hisp)"
   ]
  },
  {
   "cell_type": "code",
   "execution_count": 53,
   "metadata": {},
   "outputs": [
    {
     "data": {
      "image/png": "[encoded data removed]",
      "text/plain": [
       "<matplotlib.figure.Figure at 0x6a128e8748>"
      ]
     },
     "metadata": {},
     "output_type": "display_data"
    }
   ],
   "source": [
    "combined.corr()[\"sat_score\"][[\"male_per\",\"female_per\"]].plot.bar() #bar plot of correlation between genders and sat score.\n",
    "plt.show()"
   ]
  },
  {
   "cell_type": "code",
   "execution_count": 54,
   "metadata": {},
   "outputs": [
    {
     "data": {
      "image/png": "[encoded data removed]",
      "text/plain": [
       "<matplotlib.figure.Figure at 0x6a132f8710>"
      ]
     },
     "metadata": {},
     "output_type": "display_data"
    }
   ],
   "source": [
    "combined.plot.scatter(x=\"female_per\",y=\"sat_score\") # female percantages vs sat scores\n",
    "plt.show()"
   ]
  },
  {
   "cell_type": "code",
   "execution_count": 55,
   "metadata": {},
   "outputs": [
    {
     "name": "stdout",
     "output_type": "stream",
     "text": [
      "        DBN                                        SCHOOL NAME  \\\n",
      "5    01M696                     BARD HIGH SCHOOL EARLY COLLEGE   \n",
      "26   02M416                      ELEANOR ROOSEVELT HIGH SCHOOL   \n",
      "37   02M475                             STUYVESANT HIGH SCHOOL   \n",
      "60   03M479                                 BEACON HIGH SCHOOL   \n",
      "61   03M485  FIORELLO H. LAGUARDIA HIGH SCHOOL OF MUSIC & A...   \n",
      "79   05M692  HIGH SCHOOL FOR MATHEMATICS, SCIENCE AND ENGIN...   \n",
      "151  10X445                       BRONX HIGH SCHOOL OF SCIENCE   \n",
      "155  10X696  HIGH SCHOOL OF AMERICAN STUDIES AT LEHMAN COLLEGE   \n",
      "187  13K430                     BROOKLYN TECHNICAL HIGH SCHOOL   \n",
      "198  14K449                         BROOKLYN LATIN SCHOOL, THE   \n",
      "302  25Q525                        TOWNSEND HARRIS HIGH SCHOOL   \n",
      "327  28Q687  QUEENS HIGH SCHOOL FOR THE SCIENCES AT YORK CO...   \n",
      "356  31R605                STATEN ISLAND TECHNICAL HIGH SCHOOL   \n",
      "\n",
      "    Num of SAT Test Takers  SAT Critical Reading Avg. Score  \\\n",
      "5                      130                            624.0   \n",
      "26                     127                            572.0   \n",
      "37                     832                            679.0   \n",
      "60                     261                            577.0   \n",
      "61                     531                            566.0   \n",
      "79                     101                            605.0   \n",
      "151                    731                            632.0   \n",
      "155                     92                            636.0   \n",
      "187                   1277                            587.0   \n",
      "198                     72                            586.0   \n",
      "302                    278                            621.0   \n",
      "327                    121                            612.0   \n",
      "356                    227                            635.0   \n",
      "\n",
      "     SAT Math Avg. Score  SAT Writing Avg. Score  sat_score  \\\n",
      "5                  604.0                   628.0     1856.0   \n",
      "26                 594.0                   592.0     1758.0   \n",
      "37                 735.0                   682.0     2096.0   \n",
      "60                 575.0                   592.0     1744.0   \n",
      "61                 564.0                   577.0     1707.0   \n",
      "79                 654.0                   588.0     1847.0   \n",
      "151                688.0                   649.0     1969.0   \n",
      "155                648.0                   636.0     1920.0   \n",
      "187                659.0                   587.0     1833.0   \n",
      "198                584.0                   570.0     1740.0   \n",
      "302                651.0                   638.0     1910.0   \n",
      "327                660.0                   596.0     1868.0   \n",
      "356                682.0                   636.0     1953.0   \n",
      "\n",
      "                                            SchoolName  AP Test Takers   \\\n",
      "5                                                    0       129.028846   \n",
      "26                       Eleanor Roosevelt High School       155.000000   \n",
      "37                                       STUYVESANT HS      1510.000000   \n",
      "60                                       BEACON SCHOOL       166.000000   \n",
      "61                             FIORELLO H.LAGUARDIA HS       691.000000   \n",
      "79     HIGH SCHOOL FOR MATH SCIENCE ENGINEERING @ CCNY       114.000000   \n",
      "151                                BRONX HS OF SCIENCE      1190.000000   \n",
      "155  HIGH SCHOOL OF AMERICAN STUDIES At Lehman College       194.000000   \n",
      "187                              BROOKLYN TECHNICAL HS      2117.000000   \n",
      "198                                                  0       129.028846   \n",
      "302                                 TOWNSEND HARRIS HS       613.000000   \n",
      "327                Queens HS for Science York Colllege       215.000000   \n",
      "356                         STATEN ISLAND TECHNICAL HS       528.000000   \n",
      "\n",
      "     Total Exams Taken     ...      \\\n",
      "5           197.038462     ...       \n",
      "26          235.000000     ...       \n",
      "37         2819.000000     ...       \n",
      "60          197.000000     ...       \n",
      "61         1236.000000     ...       \n",
      "79          124.000000     ...       \n",
      "151        2435.000000     ...       \n",
      "155         302.000000     ...       \n",
      "187        3692.000000     ...       \n",
      "198         197.038462     ...       \n",
      "302         796.000000     ...       \n",
      "327         338.000000     ...       \n",
      "356         905.000000     ...       \n",
      "\n",
      "                                            Location 1 Community Board  \\\n",
      "5    525 East Houston Street\\nNew York, NY 10002\\n(...             3.0   \n",
      "26   411 East 76 Street\\nNew York, NY 10021\\n(40.77...             8.0   \n",
      "37   345 Chambers Street\\nNew York, NY 10282\\n(40.7...             1.0   \n",
      "60   227 243 West 61St Street\\nNew York, NY 10023\\n...             7.0   \n",
      "61   100 Amsterdam Avenue\\nNew York, NY 10023\\n(40....             7.0   \n",
      "79   240 Convent Ave\\nNew York, NY 10031\\n(40.82112...             9.0   \n",
      "151  75 West 205 Street\\nBronx, NY 10468\\n(40.87705...             7.0   \n",
      "155  2925 Goulden Avenue\\nBronx, NY 10468\\n(40.8712...             8.0   \n",
      "187  29 Ft Greene Place\\nBrooklyn, NY 11217\\n(40.68...             2.0   \n",
      "198  223 Graham Avenue\\nBrooklyn, NY 11206\\n(40.709...             1.0   \n",
      "302  149 11 Melbourne Avenue\\nFlushing, NY 11367\\n(...             8.0   \n",
      "327  94 50 159 Street\\nJamaica, NY 11433\\n(40.70099...            12.0   \n",
      "356  485 Clawson Street Staten Island\\nNY 10306\\n(4...             2.0   \n",
      "\n",
      "    Council District Census Tract        BIN           BBL  \\\n",
      "5                2.0       1002.0  1004062.0  1.003250e+09   \n",
      "26               5.0        132.0  1045949.0  1.014710e+09   \n",
      "37               1.0      31703.0  1084587.0  1.000160e+09   \n",
      "60               6.0        151.0  1030328.0  1.011540e+09   \n",
      "61               6.0        151.0  1030341.0  1.011560e+09   \n",
      "79               9.0      21703.0  1084085.0  1.019570e+09   \n",
      "151             11.0        409.0  2094706.0  2.032510e+09   \n",
      "155             11.0        409.0  2015222.0  2.032460e+09   \n",
      "187             35.0         33.0  3058752.0  3.020980e+09   \n",
      "198             34.0        505.0  3070825.0  3.030250e+09   \n",
      "302             24.0        809.0  4538714.0  4.065070e+09   \n",
      "327             27.0        246.0  4215611.0  4.100990e+09   \n",
      "356             50.0        134.0  5107621.0  5.042440e+09   \n",
      "\n",
      "                                                   NTA        lat        lon  \\\n",
      "5    Lower East Side                               ...  40.718962 -73.976066   \n",
      "26   Lenox Hill-Roosevelt Island                   ...  40.770116 -73.953379   \n",
      "37   Battery Park City-Lower Manhattan             ...  40.717746 -74.014049   \n",
      "60   Lincoln Square                                ...  40.772158 -73.987797   \n",
      "61   Lincoln Square                                ...  40.773671 -73.985269   \n",
      "79   Manhattanville                                ...  40.821123 -73.948845   \n",
      "151  Van Cortlandt Village                         ...  40.877056 -73.889780   \n",
      "155  Van Cortlandt Village                         ...  40.871255 -73.897516   \n",
      "187  Fort Greene                                   ...  40.688107 -73.976745   \n",
      "198  East Williamsburg                             ...  40.709900 -73.943660   \n",
      "302  Kew Gardens Hills                             ...  40.734408 -73.821417   \n",
      "327  Jamaica                                       ...  40.700999 -73.798154   \n",
      "356  New Dorp-Midland Beach                        ...  40.567913 -74.115362   \n",
      "\n",
      "    school_dist  \n",
      "5            01  \n",
      "26           02  \n",
      "37           02  \n",
      "60           03  \n",
      "61           03  \n",
      "79           05  \n",
      "151          10  \n",
      "155          10  \n",
      "187          13  \n",
      "198          14  \n",
      "302          25  \n",
      "327          28  \n",
      "356          31  \n",
      "\n",
      "[13 rows x 166 columns]\n"
     ]
    }
   ],
   "source": [
    "fem = combined[combined[\"female_per\"] > 60] # schools with big female perc and high sat scores\n",
    "fem = combined[combined[\"sat_score\"] > 1700]\n",
    "print(fem)"
   ]
  },
  {
   "cell_type": "code",
   "execution_count": 56,
   "metadata": {},
   "outputs": [
    {
     "data": {
      "image/png": "[encoded data removed]",
      "text/plain": [
       "<matplotlib.figure.Figure at 0x6a128f4320>"
      ]
     },
     "metadata": {},
     "output_type": "display_data"
    }
   ],
   "source": [
    "combined[\"ap_per\"] = combined[\"AP Test Takers \"] / combined[\"total_enrollment\"]\n",
    "combined.plot.scatter(x=\"ap_per\",y=\"sat_score\") # ap test takers vs sat scores\n",
    "plt.show()\n"
   ]
  },
  {
   "cell_type": "code",
   "execution_count": null,
   "metadata": {
    "collapsed": true
   },
   "outputs": [],
   "source": []
  }
 ],
 "metadata": {
  "kernelspec": {
   "display_name": "Python 3",
   "language": "python",
   "name": "python3"
  },
  "language_info": {
   "codemirror_mode": {
    "name": "ipython",
    "version": 3
   },
   "file_extension": ".py",
   "mimetype": "text/x-python",
   "name": "python",
   "nbconvert_exporter": "python",
   "pygments_lexer": "ipython3",
   "version": "3.6.2"
  }
 },
 "nbformat": 4,
 "nbformat_minor": 2
}
